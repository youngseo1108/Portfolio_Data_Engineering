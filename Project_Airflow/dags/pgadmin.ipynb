{
 "cells": [
  {
   "cell_type": "markdown",
   "id": "5170bd5e",
   "metadata": {},
   "source": [
    "# Visualise the results"
   ]
  },
  {
   "cell_type": "code",
   "execution_count": null,
   "id": "1280764c",
   "metadata": {},
   "outputs": [],
   "source": []
  }
 ],
 "metadata": {
  "language_info": {
   "name": "python"
  }
 },
 "nbformat": 4,
 "nbformat_minor": 5
}
